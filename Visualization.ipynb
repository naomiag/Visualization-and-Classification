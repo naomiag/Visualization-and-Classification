{
  "nbformat": 4,
  "nbformat_minor": 0,
  "metadata": {
    "colab": {
      "name": "Visualization.ipynb",
      "provenance": []
    },
    "kernelspec": {
      "name": "python3",
      "display_name": "Python 3"
    },
    "language_info": {
      "name": "python"
    }
  },
  "cells": [
    {
      "cell_type": "code",
      "metadata": {
        "id": "pmFGVBBfFaA_"
      },
      "source": [
        "!apt-get install openjdk-8-jdk-headless -qq > /dev/null\n",
        "!wget -q https://downloads.apache.org/spark/spark-3.0.2/spark-3.0.2-bin-hadoop2.7.tgz\n",
        "!tar -xvf spark-3.0.2-bin-hadoop2.7.tgz\n",
        "!pip install -q findspark\n",
        "import os\n",
        "os.environ[\"JAVA_HOME\"] = \"/usr/lib/jvm/java-8-openjdk-amd64\"\n",
        "os.environ[\"SPARK_HOME\"] = \"/content/spark-3.0.2-bin-hadoop2.7\"\n",
        "\n",
        "import findspark\n",
        "findspark.init()"
      ],
      "execution_count": null,
      "outputs": []
    },
    {
      "cell_type": "code",
      "metadata": {
        "id": "don3z-reFpCC"
      },
      "source": [
        "from pyspark.sql import SparkSession\n",
        "import matplotlib.pyplot as plt\n",
        "\n",
        "spark = SparkSession.builder.getOrCreate()"
      ],
      "execution_count": null,
      "outputs": []
    },
    {
      "cell_type": "code",
      "metadata": {
        "id": "9Dxqjo8uFxYK"
      },
      "source": [
        "#1 Load data from CSV to spark\n",
        "spark.read.csv(\"MsCustomer.csv\", header=True).createOrReplaceTempView(\"customer\")\n",
        "spark.read.csv(\"MsDriver.csv\", header=True).createOrReplaceTempView(\"driver\")\n",
        "spark.read.csv(\"MsFood.csv\", header=True).createOrReplaceTempView(\"food\")\n",
        "spark.read.csv(\"MsRestaurant.csv\", header=True).createOrReplaceTempView(\"resto\")\n",
        "spark.read.csv(\"TransactionDetail.csv\", header=True).createOrReplaceTempView(\"detail\")\n",
        "spark.read.csv(\"TransactionHeader.csv\", header=True).createOrReplaceTempView(\"header\")"
      ],
      "execution_count": null,
      "outputs": []
    },
    {
      "cell_type": "code",
      "metadata": {
        "colab": {
          "base_uri": "https://localhost:8080/",
          "height": 414
        },
        "id": "k0aA01a4HYPn",
        "outputId": "1fa21cc4-8099-4123-a2b2-1dd17005ab6c"
      },
      "source": [
        "#a.\tShow how many orders JrebFood drivers who drived using Toyota have \n",
        "# taken in February using barplot.\n",
        "data=spark.sql(\"\"\"\n",
        "  select count(h.transactionid) as order, drivername\n",
        "  from driver d\n",
        "    join header h on h.driverid = d.driverid\n",
        "  where month(transactiondate) = '2' and d.drivervehicle like 'Toyota'\n",
        "  group by d.driverid, drivername\n",
        "  order by drivername asc\n",
        "\"\"\").toPandas()\n",
        "\n",
        "# display(data)\n",
        "\n",
        "plt.bar(data[\"drivername\"], data[\"order\"])\n",
        "plt.title(\"Number of Orders Toyota Drivers Have Taken on February.\")\n",
        "plt.xlabel(\"Driver Name\")\n",
        "plt.ylabel(\"Order Taken\")\n",
        "plt.show()\n"
      ],
      "execution_count": null,
      "outputs": [
        {
          "output_type": "display_data",
          "data": {
            "text/html": [
              "<div>\n",
              "<style scoped>\n",
              "    .dataframe tbody tr th:only-of-type {\n",
              "        vertical-align: middle;\n",
              "    }\n",
              "\n",
              "    .dataframe tbody tr th {\n",
              "        vertical-align: top;\n",
              "    }\n",
              "\n",
              "    .dataframe thead th {\n",
              "        text-align: right;\n",
              "    }\n",
              "</style>\n",
              "<table border=\"1\" class=\"dataframe\">\n",
              "  <thead>\n",
              "    <tr style=\"text-align: right;\">\n",
              "      <th></th>\n",
              "      <th>order</th>\n",
              "      <th>drivername</th>\n",
              "    </tr>\n",
              "  </thead>\n",
              "  <tbody>\n",
              "    <tr>\n",
              "      <th>0</th>\n",
              "      <td>4</td>\n",
              "      <td>Arni Blanckley</td>\n",
              "    </tr>\n",
              "    <tr>\n",
              "      <th>1</th>\n",
              "      <td>5</td>\n",
              "      <td>Dierdre Hyrons</td>\n",
              "    </tr>\n",
              "    <tr>\n",
              "      <th>2</th>\n",
              "      <td>3</td>\n",
              "      <td>Rufus Oxtaby</td>\n",
              "    </tr>\n",
              "  </tbody>\n",
              "</table>\n",
              "</div>"
            ],
            "text/plain": [
              "   order      drivername\n",
              "0      4  Arni Blanckley\n",
              "1      5  Dierdre Hyrons\n",
              "2      3    Rufus Oxtaby"
            ]
          },
          "metadata": {
            "tags": []
          }
        },
        {
          "output_type": "display_data",
          "data": {
            "image/png": "[encoded data removed]",
            "text/plain": [
              "<Figure size 432x288 with 1 Axes>"
            ]
          },
          "metadata": {
            "tags": [],
            "needs_background": "light"
          }
        }
      ]
    },
    {
      "cell_type": "code",
      "metadata": {
        "colab": {
          "base_uri": "https://localhost:8080/",
          "height": 681
        },
        "id": "ICBssVIrJk4y",
        "outputId": "6b1246e8-ed3e-4d8b-8b98-942a0e87774e"
      },
      "source": [
        "#b.\tShow JrebFood partner restaurant \n",
        "#revenue for every month in 2020 using line plot.\n",
        "data=spark.sql(\"\"\"\n",
        "  select month(transactiondate) as monthly, sum(foodprice*quantity) as revenue\n",
        "  from header h\n",
        "    join detail d on d.transactionid = h.transactionid\n",
        "    join food f on f.foodid = d.foodid\n",
        "    join resto r on r.restaurantid = h.restaurantid\n",
        "  where year(transactiondate) = 2020 and ispartner = 'TRUE'\n",
        "  group by monthly\n",
        "  order by monthly\n",
        "  \n",
        "\"\"\").toPandas()\n",
        "\n",
        "#display(data)\n",
        "\n",
        "plt.plot(data[\"monthly\"], data[\"revenue\"])\n",
        "plt.xlabel(\"Month\")\n",
        "plt.ylabel(\"Total Revenue\")\n",
        "plt.xticks(range(1,13),['Jan', 'Feb', 'Mar', 'Apr', 'May', 'Jun', 'Jul', 'Aug', 'Sep', 'Oct', 'Nov', 'Dec'])\n",
        "plt.title(\"JrebFood Partner Restaurant Total Revenue in 2020\")\n",
        "plt.show()"
      ],
      "execution_count": null,
      "outputs": [
        {
          "output_type": "display_data",
          "data": {
            "text/html": [
              "<div>\n",
              "<style scoped>\n",
              "    .dataframe tbody tr th:only-of-type {\n",
              "        vertical-align: middle;\n",
              "    }\n",
              "\n",
              "    .dataframe tbody tr th {\n",
              "        vertical-align: top;\n",
              "    }\n",
              "\n",
              "    .dataframe thead th {\n",
              "        text-align: right;\n",
              "    }\n",
              "</style>\n",
              "<table border=\"1\" class=\"dataframe\">\n",
              "  <thead>\n",
              "    <tr style=\"text-align: right;\">\n",
              "      <th></th>\n",
              "      <th>monthly</th>\n",
              "      <th>revenue</th>\n",
              "    </tr>\n",
              "  </thead>\n",
              "  <tbody>\n",
              "    <tr>\n",
              "      <th>0</th>\n",
              "      <td>1</td>\n",
              "      <td>23519000.0</td>\n",
              "    </tr>\n",
              "    <tr>\n",
              "      <th>1</th>\n",
              "      <td>2</td>\n",
              "      <td>23752300.0</td>\n",
              "    </tr>\n",
              "    <tr>\n",
              "      <th>2</th>\n",
              "      <td>3</td>\n",
              "      <td>25190200.0</td>\n",
              "    </tr>\n",
              "    <tr>\n",
              "      <th>3</th>\n",
              "      <td>4</td>\n",
              "      <td>21875800.0</td>\n",
              "    </tr>\n",
              "    <tr>\n",
              "      <th>4</th>\n",
              "      <td>5</td>\n",
              "      <td>17611700.0</td>\n",
              "    </tr>\n",
              "    <tr>\n",
              "      <th>5</th>\n",
              "      <td>6</td>\n",
              "      <td>27881300.0</td>\n",
              "    </tr>\n",
              "    <tr>\n",
              "      <th>6</th>\n",
              "      <td>7</td>\n",
              "      <td>19254900.0</td>\n",
              "    </tr>\n",
              "    <tr>\n",
              "      <th>7</th>\n",
              "      <td>8</td>\n",
              "      <td>21397000.0</td>\n",
              "    </tr>\n",
              "    <tr>\n",
              "      <th>8</th>\n",
              "      <td>9</td>\n",
              "      <td>30859300.0</td>\n",
              "    </tr>\n",
              "    <tr>\n",
              "      <th>9</th>\n",
              "      <td>10</td>\n",
              "      <td>33980400.0</td>\n",
              "    </tr>\n",
              "    <tr>\n",
              "      <th>10</th>\n",
              "      <td>11</td>\n",
              "      <td>18213800.0</td>\n",
              "    </tr>\n",
              "    <tr>\n",
              "      <th>11</th>\n",
              "      <td>12</td>\n",
              "      <td>23012800.0</td>\n",
              "    </tr>\n",
              "  </tbody>\n",
              "</table>\n",
              "</div>"
            ],
            "text/plain": [
              "    monthly     revenue\n",
              "0         1  23519000.0\n",
              "1         2  23752300.0\n",
              "2         3  25190200.0\n",
              "3         4  21875800.0\n",
              "4         5  17611700.0\n",
              "5         6  27881300.0\n",
              "6         7  19254900.0\n",
              "7         8  21397000.0\n",
              "8         9  30859300.0\n",
              "9        10  33980400.0\n",
              "10       11  18213800.0\n",
              "11       12  23012800.0"
            ]
          },
          "metadata": {
            "tags": []
          }
        },
        {
          "output_type": "display_data",
          "data": {
            "image/png": "[encoded data removed]",
            "text/plain": [
              "<Figure size 432x288 with 1 Axes>"
            ]
          },
          "metadata": {
            "tags": [],
            "needs_background": "light"
          }
        }
      ]
    },
    {
      "cell_type": "code",
      "metadata": {
        "colab": {
          "base_uri": "https://localhost:8080/",
          "height": 354
        },
        "id": "_2zJ0QNuNTKa",
        "outputId": "22ae71fd-d74e-461a-f480-ea4558c96ab6"
      },
      "source": [
        "#c.\tShow the percentage of deliveries that JrebFood \n",
        "# subsidize using pie plot. The delivery will be subsidized \n",
        "# based on the distance of the delivery as follows\n",
        "\n",
        "data = spark.sql(\"\"\"\n",
        "  select count(distance) as count,\n",
        "    case \n",
        "    when distance > (\n",
        "    select avg(distance) as avgdis\n",
        "    from header h\n",
        "    where month(transactiondate) = '1'\n",
        "  ) then 'Subsidized Gasoline'\n",
        "  \n",
        "    when distance <= (\n",
        "    select avg(distance) as avgdis\n",
        "    from header h\n",
        "    where month(transactiondate) = '1'\n",
        "  ) then 'Unsubsidized Gasoline'\n",
        "\n",
        "    end as benefit\n",
        "  from header h\n",
        "  group by benefit\n",
        "\n",
        "\"\"\").toPandas()\n",
        "\n",
        "display(data)\n",
        "\n",
        "plt.pie(data[\"count\"], labels=data[\"benefit\"], autopct=\"%.1f%%\")\n",
        "plt.title(\"Subsidized Delivery by JrebFood\")\n",
        "plt.show()"
      ],
      "execution_count": null,
      "outputs": [
        {
          "output_type": "display_data",
          "data": {
            "text/html": [
              "<div>\n",
              "<style scoped>\n",
              "    .dataframe tbody tr th:only-of-type {\n",
              "        vertical-align: middle;\n",
              "    }\n",
              "\n",
              "    .dataframe tbody tr th {\n",
              "        vertical-align: top;\n",
              "    }\n",
              "\n",
              "    .dataframe thead th {\n",
              "        text-align: right;\n",
              "    }\n",
              "</style>\n",
              "<table border=\"1\" class=\"dataframe\">\n",
              "  <thead>\n",
              "    <tr style=\"text-align: right;\">\n",
              "      <th></th>\n",
              "      <th>count</th>\n",
              "      <th>benefit</th>\n",
              "    </tr>\n",
              "  </thead>\n",
              "  <tbody>\n",
              "    <tr>\n",
              "      <th>0</th>\n",
              "      <td>527</td>\n",
              "      <td>Unsubsidized Gasoline</td>\n",
              "    </tr>\n",
              "    <tr>\n",
              "      <th>1</th>\n",
              "      <td>473</td>\n",
              "      <td>Subsidized Gasoline</td>\n",
              "    </tr>\n",
              "  </tbody>\n",
              "</table>\n",
              "</div>"
            ],
            "text/plain": [
              "   count                benefit\n",
              "0    527  Unsubsidized Gasoline\n",
              "1    473    Subsidized Gasoline"
            ]
          },
          "metadata": {
            "tags": []
          }
        },
        {
          "output_type": "display_data",
          "data": {
            "image/png": "[encoded data removed]",
            "text/plain": [
              "<Figure size 432x288 with 1 Axes>"
            ]
          },
          "metadata": {
            "tags": []
          }
        }
      ]
    }
  ]
}